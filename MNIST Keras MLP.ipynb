{
 "cells": [
  {
   "cell_type": "code",
   "execution_count": 1,
   "metadata": {},
   "outputs": [
    {
     "name": "stderr",
     "output_type": "stream",
     "text": [
      "Using TensorFlow backend.\n"
     ]
    }
   ],
   "source": [
    "import keras\n",
    "import numpy as np\n",
    "from keras.datasets import mnist\n",
    "from keras.models import Sequential\n",
    "from keras.layers import Dense, Dropout\n",
    "from keras.optimizers import RMSprop"
   ]
  },
  {
   "cell_type": "code",
   "execution_count": 2,
   "metadata": {},
   "outputs": [],
   "source": [
    "batch_size = 128\n",
    "num_classes = 10\n",
    "epochs = 20"
   ]
  },
  {
   "cell_type": "code",
   "execution_count": 3,
   "metadata": {},
   "outputs": [
    {
     "name": "stdout",
     "output_type": "stream",
     "text": [
      "60000 train samples\n",
      "10000 test samples\n"
     ]
    }
   ],
   "source": [
    "# the data, shuffled and split between train and test sets\n",
    "(x_train, y_train), (x_test, y_test) = mnist.load_data()\n",
    "\n",
    "x_train = x_train.reshape(60000, 784)\n",
    "x_test = x_test.reshape(10000, 784)\n",
    "x_train = x_train.astype('float32')\n",
    "x_test = x_test.astype('float32')\n",
    "x_train /= 255\n",
    "x_test /= 255\n",
    "print(x_train.shape[0], 'train samples')\n",
    "print(x_test.shape[0], 'test samples')\n",
    "\n",
    "# convert class vectors to binary class matrices\n",
    "y_train = keras.utils.to_categorical(y_train, num_classes)\n",
    "y_test = keras.utils.to_categorical(y_test, num_classes)"
   ]
  },
  {
   "cell_type": "code",
   "execution_count": 4,
   "metadata": {},
   "outputs": [
    {
     "name": "stdout",
     "output_type": "stream",
     "text": [
      "_________________________________________________________________\n",
      "Layer (type)                 Output Shape              Param #   \n",
      "=================================================================\n",
      "dense_1 (Dense)              (None, 512)               401920    \n",
      "_________________________________________________________________\n",
      "dense_2 (Dense)              (None, 10)                5130      \n",
      "=================================================================\n",
      "Total params: 407,050\n",
      "Trainable params: 407,050\n",
      "Non-trainable params: 0\n",
      "_________________________________________________________________\n"
     ]
    }
   ],
   "source": [
    "model = Sequential()\n",
    "model.add(Dense(512, activation='relu', input_shape=(784,)))\n",
    "model.add(Dense(10, activation='softmax'))\n",
    "\n",
    "model.summary()\n",
    "\n",
    "model.compile(loss='categorical_crossentropy',\n",
    "              optimizer=RMSprop(),\n",
    "              metrics=['accuracy'])"
   ]
  },
  {
   "cell_type": "code",
   "execution_count": 5,
   "metadata": {},
   "outputs": [
    {
     "name": "stdout",
     "output_type": "stream",
     "text": [
      "Train on 60000 samples, validate on 10000 samples\n",
      "Epoch 1/20\n",
      "60000/60000 [==============================] - 7s - loss: 0.2590 - acc: 0.9251 - val_loss: 0.1262 - val_acc: 0.9624\n",
      "Epoch 2/20\n",
      "60000/60000 [==============================] - 7s - loss: 0.1038 - acc: 0.9691 - val_loss: 0.0936 - val_acc: 0.9714\n",
      "Epoch 3/20\n",
      "60000/60000 [==============================] - 6s - loss: 0.0681 - acc: 0.9795 - val_loss: 0.0781 - val_acc: 0.9765\n",
      "Epoch 4/20\n",
      "60000/60000 [==============================] - 6s - loss: 0.0505 - acc: 0.9846 - val_loss: 0.0715 - val_acc: 0.9778\n",
      "Epoch 5/20\n",
      "60000/60000 [==============================] - 6s - loss: 0.0376 - acc: 0.9893 - val_loss: 0.0664 - val_acc: 0.9788\n",
      "Epoch 6/20\n",
      "60000/60000 [==============================] - 7s - loss: 0.0287 - acc: 0.9917 - val_loss: 0.0735 - val_acc: 0.9793\n",
      "Epoch 7/20\n",
      "60000/60000 [==============================] - 8s - loss: 0.0223 - acc: 0.9935 - val_loss: 0.0664 - val_acc: 0.9803\n",
      "Epoch 8/20\n",
      "60000/60000 [==============================] - 6s - loss: 0.0173 - acc: 0.9948 - val_loss: 0.0672 - val_acc: 0.9816\n",
      "Epoch 9/20\n",
      "60000/60000 [==============================] - 8s - loss: 0.0135 - acc: 0.9962 - val_loss: 0.0625 - val_acc: 0.9817\n",
      "Epoch 10/20\n",
      "60000/60000 [==============================] - 6s - loss: 0.0103 - acc: 0.9973 - val_loss: 0.0728 - val_acc: 0.9812\n",
      "Epoch 11/20\n",
      "60000/60000 [==============================] - 5s - loss: 0.0084 - acc: 0.9974 - val_loss: 0.0794 - val_acc: 0.9814\n",
      "Epoch 12/20\n",
      "60000/60000 [==============================] - 6s - loss: 0.0064 - acc: 0.9980 - val_loss: 0.0750 - val_acc: 0.9815\n",
      "Epoch 13/20\n",
      "60000/60000 [==============================] - 6s - loss: 0.0049 - acc: 0.9987 - val_loss: 0.0773 - val_acc: 0.9812\n",
      "Epoch 14/20\n",
      "60000/60000 [==============================] - 9s - loss: 0.0039 - acc: 0.9990 - val_loss: 0.0759 - val_acc: 0.9822\n",
      "Epoch 15/20\n",
      "60000/60000 [==============================] - 9s - loss: 0.0029 - acc: 0.9995 - val_loss: 0.0874 - val_acc: 0.9802\n",
      "Epoch 16/20\n",
      "60000/60000 [==============================] - 7s - loss: 0.0027 - acc: 0.9994 - val_loss: 0.0778 - val_acc: 0.9831\n",
      "Epoch 17/20\n",
      "60000/60000 [==============================] - 5s - loss: 0.0019 - acc: 0.9996 - val_loss: 0.0827 - val_acc: 0.9829\n",
      "Epoch 18/20\n",
      "60000/60000 [==============================] - 6s - loss: 0.0015 - acc: 0.9996 - val_loss: 0.0927 - val_acc: 0.9811\n",
      "Epoch 19/20\n",
      "60000/60000 [==============================] - 6s - loss: 0.0012 - acc: 0.9997 - val_loss: 0.0932 - val_acc: 0.9811\n",
      "Epoch 20/20\n",
      "60000/60000 [==============================] - 5s - loss: 0.0013 - acc: 0.9997 - val_loss: 0.0994 - val_acc: 0.9816\n",
      "Test loss: 0.0994202135356\n",
      "Test accuracy: 0.9816\n"
     ]
    }
   ],
   "source": [
    "history = model.fit(x_train, y_train,\n",
    "                    batch_size=batch_size,\n",
    "                    epochs=epochs,\n",
    "                    verbose=1,\n",
    "                    validation_data=(x_test, y_test))\n",
    "score = model.evaluate(x_test, y_test, verbose=0)\n",
    "print('Test loss:', score[0])\n",
    "print('Test accuracy:', score[1])"
   ]
  },
  {
   "cell_type": "code",
   "execution_count": 6,
   "metadata": {},
   "outputs": [
    {
     "name": "stdout",
     "output_type": "stream",
     "text": [
      "(784, 512)\n",
      "(512,)\n",
      "(512, 10)\n",
      "(10,)\n"
     ]
    }
   ],
   "source": [
    "for weight in model.get_weights():\n",
    "    print(weight.shape)"
   ]
  },
  {
   "cell_type": "code",
   "execution_count": 14,
   "metadata": {},
   "outputs": [],
   "source": [
    "import csv\n",
    "\n",
    "with open('hidden_layer_weights.csv', 'w') as f:\n",
    "    writer = csv.writer(f, delimiter=',')\n",
    "    for weights in model.get_weights()[0].transpose():\n",
    "        writer.writerow(weights.tolist())\n",
    "            \n",
    "with open('hidden_layer_bias_weights.csv', 'w') as f:\n",
    "    writer = csv.writer(f, delimiter=',')\n",
    "    writer.writerow(model.get_weights()[1].transpose().tolist())\n",
    "        \n",
    "with open('output_layer_weights.csv', 'w') as f:\n",
    "    writer = csv.writer(f, delimiter=',')\n",
    "    for weights in model.get_weights()[2].transpose():\n",
    "        writer.writerow(weights.tolist())\n",
    "        \n",
    "with open('output_layer_bias_weights.csv', 'w') as f:\n",
    "    writer = csv.writer(f, delimiter=',')\n",
    "    writer.writerow(model.get_weights()[3].transpose().tolist())"
   ]
  }
 ],
 "metadata": {
  "kernelspec": {
   "display_name": "Python 3",
   "language": "python",
   "name": "python3"
  },
  "language_info": {
   "codemirror_mode": {
    "name": "ipython",
    "version": 3
   },
   "file_extension": ".py",
   "mimetype": "text/x-python",
   "name": "python",
   "nbconvert_exporter": "python",
   "pygments_lexer": "ipython3",
   "version": "3.6.2"
  }
 },
 "nbformat": 4,
 "nbformat_minor": 2
}
